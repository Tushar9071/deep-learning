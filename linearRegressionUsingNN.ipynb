{
 "cells": [
  {
   "cell_type": "code",
   "execution_count": 1,
   "id": "6b79a304",
   "metadata": {},
   "outputs": [
    {
     "data": {
      "text/plain": [
       "'2.5.1'"
      ]
     },
     "execution_count": 1,
     "metadata": {},
     "output_type": "execute_result"
    }
   ],
   "source": [
    "import torch\n",
    "from torch import nn # nn contains all of PyTorch's building blocks for neural networks\n",
    "import matplotlib.pyplot as plt\n",
    "\n",
    "# Check PyTorch version\n",
    "torch.__version__"
   ]
  },
  {
   "cell_type": "markdown",
   "id": "019f9a43",
   "metadata": {},
   "source": [
    "## Data (Preparing and loading)\n",
    "Data can be anything... in machine learning\n",
    "* Excel \n",
    "* Images\n",
    "* Text\n",
    "* Audio\n",
    "* Videos\n",
    "* DNA\n",
    "\n",
    "Machine learning is a game of two parts:\n",
    "1. Get data into a numerical representation.\n",
    "2. Build a model to learn patterns in that numerical representations.\n"
   ]
  },
  {
   "cell_type": "code",
   "execution_count": 2,
   "id": "5fe485cb",
   "metadata": {},
   "outputs": [],
   "source": [
    "# Create Known parameters using linear regression\n",
    "weight = 0.7\n",
    "bias = 0.3\n",
    "\n",
    "# Create \n",
    "\n",
    "start = 0.0\n",
    "end = 1.0\n",
    "step = 0.02\n",
    "\n",
    "X = torch.arange(start, end, step).unsqueeze(dim=1)\n",
    "y = weight * X + bias\n"
   ]
  },
  {
   "cell_type": "code",
   "execution_count": 3,
   "id": "af75a06e",
   "metadata": {},
   "outputs": [
    {
     "data": {
      "text/plain": [
       "(50,\n",
       " 50,\n",
       " tensor([[0.0000],\n",
       "         [0.0200],\n",
       "         [0.0400],\n",
       "         [0.0600],\n",
       "         [0.0800]]),\n",
       " tensor([[0.3000],\n",
       "         [0.3140],\n",
       "         [0.3280],\n",
       "         [0.3420],\n",
       "         [0.3560]]))"
      ]
     },
     "execution_count": 3,
     "metadata": {},
     "output_type": "execute_result"
    }
   ],
   "source": [
    "len(X), len(y) , X[:5] , y[:5]"
   ]
  },
  {
   "cell_type": "code",
   "execution_count": 4,
   "id": "53dea990",
   "metadata": {},
   "outputs": [
    {
     "data": {
      "text/plain": [
       "(40, 40, 10, 10)"
      ]
     },
     "execution_count": 4,
     "metadata": {},
     "output_type": "execute_result"
    }
   ],
   "source": [
    " ## splitting the dataset\n",
    "train_size = int(0.8 * len(X)) \n",
    "X_train, X_test = X[:train_size], X[train_size:]\n",
    "y_train, y_test = y[:train_size], y[train_size:]\n",
    "len(X_train), len(y_train), len(X_test), len(y_test)"
   ]
  },
  {
   "cell_type": "code",
   "execution_count": 5,
   "id": "cb0369b9",
   "metadata": {},
   "outputs": [],
   "source": [
    "# also we can use sklearn for random splitting\n",
    "from sklearn.model_selection import train_test_split\n",
    "\n",
    "# X_train, X_test, y_train, y_test = train_test_split(X, y, test_size=0.2, random_state=42)\n"
   ]
  },
  {
   "cell_type": "code",
   "execution_count": 6,
   "id": "79d199f1",
   "metadata": {},
   "outputs": [],
   "source": [
    "# visualizing the data\n",
    "def plot_predication(train_data = X_train,\n",
    "                     train_labels = y_train,\n",
    "                     test_data=X_test,\n",
    "                     test_labels=y_test,\n",
    "                     predication=None):\n",
    "    \"\"\"Plot training data, test data and compares predictions\"\"\"\n",
    "    plt.figure(figsize=(10,7))\n",
    "    \n",
    "    # plot training data in blue\n",
    "    plt.scatter(train_data,train_labels,c=\"b\" ,s=4,label =\"Training data\")\n",
    "    \n",
    "    # plot test data\n",
    "    plt.scatter(test_data,test_labels,c=\"g\",s=4,label=\"Testing data\")\n",
    "\n",
    "    #Are there predictions to plot?\n",
    "    if predication is not None:\n",
    "        plt.scatter(test_data,predication,c=\"r\",s=4,label=\"Predictions\")\n",
    "        \n",
    "    plt.legend(prop={\"size\":14})"
   ]
  },
  {
   "cell_type": "code",
   "execution_count": 7,
   "id": "25cb6f71",
   "metadata": {},
   "outputs": [
    {
     "data": {
      "image/png": "[encoded data removed]",
      "text/plain": [
       "<Figure size 1000x700 with 1 Axes>"
      ]
     },
     "metadata": {},
     "output_type": "display_data"
    }
   ],
   "source": [
    "plot_predication()"
   ]
  },
  {
   "cell_type": "code",
   "execution_count": 8,
   "id": "6f85899e",
   "metadata": {},
   "outputs": [],
   "source": [
    "# Create linear regression model\n",
    "class LinearRegressionModel(nn.Module):\n",
    "    # torch.manual_seed(42)\n",
    "    def __init__(self):\n",
    "        super().__init__()\n",
    "        self.weights = nn.Parameter(torch.randn(1,requires_grad=True,dtype=torch.float))\n",
    "        self.bias = nn.Parameter(torch.randn(1,requires_grad=True,dtype=torch.float))\n",
    "\n",
    "    def forward(self,x:torch.Tensor)->torch.Tensor:\n",
    "        return  self.weights*x + self.bias"
   ]
  },
  {
   "cell_type": "code",
   "execution_count": 9,
   "id": "8f8d70fd",
   "metadata": {},
   "outputs": [
    {
     "data": {
      "text/plain": [
       "[Parameter containing:\n",
       " tensor([0.3367], requires_grad=True),\n",
       " Parameter containing:\n",
       " tensor([0.1288], requires_grad=True)]"
      ]
     },
     "execution_count": 9,
     "metadata": {},
     "output_type": "execute_result"
    }
   ],
   "source": [
    "# Cheate a random seed\n",
    "\n",
    "torch.manual_seed(42)\n",
    "\n",
    "#Create an instance of the model\n",
    "model = LinearRegressionModel()\n",
    "\n",
    "#check out the model's parameters\n",
    "list(model.parameters())"
   ]
  },
  {
   "cell_type": "code",
   "execution_count": 10,
   "id": "60611b47",
   "metadata": {},
   "outputs": [
    {
     "data": {
      "text/plain": [
       "OrderedDict([('weights', tensor([0.3367])), ('bias', tensor([0.1288]))])"
      ]
     },
     "execution_count": 10,
     "metadata": {},
     "output_type": "execute_result"
    }
   ],
   "source": [
    "# List named parameters\n",
    "model.state_dict()"
   ]
  },
  {
   "cell_type": "code",
   "execution_count": 11,
   "id": "47bcfc51",
   "metadata": {},
   "outputs": [
    {
     "data": {
      "text/plain": [
       "(0.7, 0.3)"
      ]
     },
     "execution_count": 11,
     "metadata": {},
     "output_type": "execute_result"
    }
   ],
   "source": [
    "weight , bias"
   ]
  },
  {
   "cell_type": "code",
   "execution_count": 12,
   "id": "27cc2cb8",
   "metadata": {},
   "outputs": [
    {
     "data": {
      "text/plain": [
       "tensor([[0.3982],\n",
       "        [0.4049],\n",
       "        [0.4116],\n",
       "        [0.4184],\n",
       "        [0.4251],\n",
       "        [0.4318],\n",
       "        [0.4386],\n",
       "        [0.4453],\n",
       "        [0.4520],\n",
       "        [0.4588]])"
      ]
     },
     "execution_count": 12,
     "metadata": {},
     "output_type": "execute_result"
    }
   ],
   "source": [
    "# make same predictions\n",
    "with torch.inference_mode():\n",
    "    y_pred = model(X_test)\n",
    "y_pred"
   ]
  },
  {
   "cell_type": "code",
   "execution_count": 13,
   "id": "08c92e1c",
   "metadata": {},
   "outputs": [
    {
     "data": {
      "image/png": "[encoded data removed]",
      "text/plain": [
       "<Figure size 1000x700 with 1 Axes>"
      ]
     },
     "metadata": {},
     "output_type": "display_data"
    }
   ],
   "source": [
    "plot_predication(predication=y_pred)"
   ]
  },
  {
   "cell_type": "code",
   "execution_count": 14,
   "id": "6fa76f27",
   "metadata": {},
   "outputs": [],
   "source": [
    "## train model\n",
    "# setup loss function\n",
    "loss_fn = nn.L1Loss()\n",
    "\n",
    "# set up optimizer\n",
    "optimizer = torch.optim.SGD(params=model.parameters(),lr=0.01)"
   ]
  },
  {
   "cell_type": "code",
   "execution_count": 15,
   "id": "94967d54",
   "metadata": {},
   "outputs": [
    {
     "name": "stdout",
     "output_type": "stream",
     "text": [
      "Epoch: 0 | Loss: 0.48107 | Weight: 0.341 | Bias: 0.139\n",
      "Epoch: 10 | Loss: 0.34636 | Weight: 0.380 | Bias: 0.239\n",
      "Epoch: 20 | Loss: 0.21730 | Weight: 0.418 | Bias: 0.333\n",
      "Epoch: 30 | Loss: 0.14464 | Weight: 0.451 | Bias: 0.377\n",
      "Epoch: 40 | Loss: 0.11361 | Weight: 0.475 | Bias: 0.387\n",
      "Epoch: 50 | Loss: 0.09920 | Weight: 0.494 | Bias: 0.384\n",
      "Epoch: 60 | Loss: 0.08887 | Weight: 0.512 | Bias: 0.379\n",
      "Epoch: 70 | Loss: 0.08059 | Weight: 0.529 | Bias: 0.372\n",
      "Epoch: 80 | Loss: 0.07232 | Weight: 0.546 | Bias: 0.365\n",
      "Epoch: 90 | Loss: 0.06474 | Weight: 0.563 | Bias: 0.357\n",
      "Epoch: 100 | Loss: 0.05646 | Weight: 0.580 | Bias: 0.350\n",
      "Epoch: 110 | Loss: 0.04819 | Weight: 0.597 | Bias: 0.343\n",
      "Epoch: 120 | Loss: 0.04060 | Weight: 0.614 | Bias: 0.336\n",
      "Epoch: 130 | Loss: 0.03233 | Weight: 0.631 | Bias: 0.329\n",
      "Epoch: 140 | Loss: 0.02406 | Weight: 0.648 | Bias: 0.322\n",
      "Epoch: 150 | Loss: 0.01647 | Weight: 0.665 | Bias: 0.314\n",
      "Epoch: 160 | Loss: 0.00820 | Weight: 0.683 | Bias: 0.307\n",
      "Epoch: 170 | Loss: 0.00502 | Weight: 0.695 | Bias: 0.299\n",
      "Epoch: 180 | Loss: 0.00502 | Weight: 0.695 | Bias: 0.299\n",
      "Epoch: 190 | Loss: 0.00502 | Weight: 0.695 | Bias: 0.299\n"
     ]
    }
   ],
   "source": [
    "# Building a training loop\n",
    "epochs = 200\n",
    "\n",
    "epoch_count=[]\n",
    "loss_values=[]\n",
    "test_loss_values=[]\n",
    "for epoch in range(epochs):\n",
    "    model.train()\n",
    "    y_pred = model(X_train)\n",
    "    loss = loss_fn(y_pred,y_train)\n",
    "    optimizer.zero_grad()\n",
    "    loss.backward()\n",
    "    optimizer.step()\n",
    "    # print(list(model.parameters()))\n",
    "    model.eval()\n",
    "    \n",
    "    with torch.inference_mode():\n",
    "        test_loss = loss_fn(model(X_test),y_test)\n",
    "    if epoch % 10 == 0:\n",
    "        epoch_count.append(epoch)\n",
    "        loss_values.append(loss.item())\n",
    "        test_loss_values.append(test_loss.item())\n",
    "        print(f\"Epoch: {epoch} | Loss: {test_loss:.5f} | Weight: {model.weights.item():.3f} | Bias: {model.bias.item():.3f}\")"
   ]
  },
  {
   "cell_type": "code",
   "execution_count": 16,
   "id": "ea86afbe",
   "metadata": {},
   "outputs": [
    {
     "data": {
      "text/plain": [
       "OrderedDict([('weights', tensor([0.6990])), ('bias', tensor([0.3093]))])"
      ]
     },
     "execution_count": 16,
     "metadata": {},
     "output_type": "execute_result"
    }
   ],
   "source": [
    "model.state_dict()"
   ]
  },
  {
   "cell_type": "code",
   "execution_count": 17,
   "id": "a2442d23",
   "metadata": {},
   "outputs": [
    {
     "data": {
      "image/png": "[encoded data removed]",
      "text/plain": [
       "<Figure size 640x480 with 1 Axes>"
      ]
     },
     "metadata": {},
     "output_type": "display_data"
    }
   ],
   "source": [
    "\n",
    "plt.plot(epoch_count,loss_values,label=\"Train Loss\")\n",
    "plt.plot(epoch_count,test_loss_values,label=\"Test Loss\")\n",
    "plt.title(\"Loss curves\")\n",
    "plt.ylabel(\"Loss\")\n",
    "plt.xlabel(\"Epochs\")\n",
    "plt.legend()\n",
    "plt.show()\n"
   ]
  },
  {
   "cell_type": "code",
   "execution_count": 18,
   "id": "2fcbcc5f",
   "metadata": {},
   "outputs": [],
   "source": [
    "with torch.inference_mode():\n",
    "    y_pred = model(X_test)"
   ]
  },
  {
   "cell_type": "code",
   "execution_count": 19,
   "id": "d38cf56b",
   "metadata": {},
   "outputs": [
    {
     "data": {
      "image/png": "[encoded data removed]",
      "text/plain": [
       "<Figure size 1000x700 with 1 Axes>"
      ]
     },
     "metadata": {},
     "output_type": "display_data"
    }
   ],
   "source": [
    "plot_predication(predication=y_pred)"
   ]
  },
  {
   "cell_type": "code",
   "execution_count": 20,
   "id": "4af5e6a6",
   "metadata": {},
   "outputs": [],
   "source": [
    "## saving a model in PyTorch\n",
    "# there are three main ways to save a model in PyTorch\n",
    "# 1. torch.save() - saves the entire model\n",
    "# 2. torch.load() - loads the entire model\n",
    "# 3.torch.nn.Module.load_state_dict() - loads the model's parameters"
   ]
  },
  {
   "cell_type": "code",
   "execution_count": 21,
   "id": "ef99abc1",
   "metadata": {},
   "outputs": [
    {
     "data": {
      "text/plain": [
       "OrderedDict([('weights', tensor([0.6990])), ('bias', tensor([0.3093]))])"
      ]
     },
     "execution_count": 21,
     "metadata": {},
     "output_type": "execute_result"
    }
   ],
   "source": [
    "model.state_dict()"
   ]
  },
  {
   "cell_type": "code",
   "execution_count": 22,
   "id": "32ba442c",
   "metadata": {},
   "outputs": [
    {
     "name": "stdout",
     "output_type": "stream",
     "text": [
      "Saving model to : models/LinearRegressionModel.pth\n"
     ]
    }
   ],
   "source": [
    "# saving the model state_dict()\n",
    "from pathlib import Path\n",
    "model_path = Path(\"models\")\n",
    "model_path.mkdir(parents=True,exist_ok=True)\n",
    "\n",
    "model_name = \"LinearRegressionModel.pth\"\n",
    "\n",
    "model_save_path = model_path / model_name\n",
    "\n",
    "print(f\"Saving model to : {model_save_path}\")\n",
    "torch.save(obj=model.state_dict() , f=model_save_path)"
   ]
  },
  {
   "cell_type": "code",
   "execution_count": 23,
   "id": "c92f2fd0",
   "metadata": {},
   "outputs": [],
   "source": [
    "# torch direct save entire model\n",
    "torch.save(obj=model,f=model_path / \"entire_model.pth\")\n"
   ]
  },
  {
   "cell_type": "code",
   "execution_count": 24,
   "id": "5046a14f",
   "metadata": {},
   "outputs": [
    {
     "name": "stderr",
     "output_type": "stream",
     "text": [
      "/tmp/ipykernel_44906/492067558.py:5: FutureWarning: You are using `torch.load` with `weights_only=False` (the current default value), which uses the default pickle module implicitly. It is possible to construct malicious pickle data which will execute arbitrary code during unpickling (See https://github.com/pytorch/pytorch/blob/main/SECURITY.md#untrusted-models for more details). In a future release, the default value for `weights_only` will be flipped to `True`. This limits the functions that could be executed during unpickling. Arbitrary objects will no longer be allowed to be loaded via this mode unless they are explicitly allowlisted by the user via `torch.serialization.add_safe_globals`. We recommend you start setting `weights_only=True` for any use case where you don't have full control of the loaded file. Please open an issue on GitHub for any issues related to this experimental feature.\n",
      "  loaded_model.load_state_dict(torch.load(model_save_path))\n"
     ]
    },
    {
     "data": {
      "text/plain": [
       "<All keys matched successfully>"
      ]
     },
     "execution_count": 24,
     "metadata": {},
     "output_type": "execute_result"
    }
   ],
   "source": [
    "# load the saved model\n",
    "loaded_model = LinearRegressionModel()\n",
    "\n",
    "# load the state_dict\n",
    "loaded_model.load_state_dict(torch.load(model_save_path))"
   ]
  },
  {
   "cell_type": "code",
   "execution_count": 25,
   "id": "e758e8fb",
   "metadata": {},
   "outputs": [
    {
     "data": {
      "text/plain": [
       "OrderedDict([('weights', tensor([0.6990])), ('bias', tensor([0.3093]))])"
      ]
     },
     "execution_count": 25,
     "metadata": {},
     "output_type": "execute_result"
    }
   ],
   "source": [
    "loaded_model.state_dict()"
   ]
  },
  {
   "cell_type": "code",
   "execution_count": 26,
   "id": "7cf04a3d",
   "metadata": {},
   "outputs": [
    {
     "name": "stderr",
     "output_type": "stream",
     "text": [
      "/tmp/ipykernel_44906/570573415.py:1: FutureWarning: You are using `torch.load` with `weights_only=False` (the current default value), which uses the default pickle module implicitly. It is possible to construct malicious pickle data which will execute arbitrary code during unpickling (See https://github.com/pytorch/pytorch/blob/main/SECURITY.md#untrusted-models for more details). In a future release, the default value for `weights_only` will be flipped to `True`. This limits the functions that could be executed during unpickling. Arbitrary objects will no longer be allowed to be loaded via this mode unless they are explicitly allowlisted by the user via `torch.serialization.add_safe_globals`. We recommend you start setting `weights_only=True` for any use case where you don't have full control of the loaded file. Please open an issue on GitHub for any issues related to this experimental feature.\n",
      "  direct_save_model = torch.load(model_path / \"entire_model.pth\")\n"
     ]
    }
   ],
   "source": [
    "direct_save_model = torch.load(model_path / \"entire_model.pth\")"
   ]
  },
  {
   "cell_type": "code",
   "execution_count": 27,
   "id": "0d110e14",
   "metadata": {},
   "outputs": [
    {
     "data": {
      "text/plain": [
       "OrderedDict([('weights', tensor([0.6990])), ('bias', tensor([0.3093]))])"
      ]
     },
     "execution_count": 27,
     "metadata": {},
     "output_type": "execute_result"
    }
   ],
   "source": [
    "direct_save_model.state_dict()"
   ]
  },
  {
   "cell_type": "code",
   "execution_count": 28,
   "id": "56dcecdb",
   "metadata": {},
   "outputs": [
    {
     "data": {
      "text/plain": [
       "tensor([[True],\n",
       "        [True],\n",
       "        [True],\n",
       "        [True],\n",
       "        [True],\n",
       "        [True],\n",
       "        [True],\n",
       "        [True],\n",
       "        [True],\n",
       "        [True]])"
      ]
     },
     "execution_count": 28,
     "metadata": {},
     "output_type": "execute_result"
    }
   ],
   "source": [
    "loaded_model.eval()\n",
    "with torch.inference_mode():\n",
    "    load_preds = loaded_model(X_test)\n",
    "    \n",
    "load_preds == y_pred"
   ]
  },
  {
   "cell_type": "code",
   "execution_count": null,
   "id": "0bfd51e4",
   "metadata": {},
   "outputs": [],
   "source": []
  }
 ],
 "metadata": {
  "kernelspec": {
   "display_name": "al-ml",
   "language": "python",
   "name": "python3"
  },
  "language_info": {
   "codemirror_mode": {
    "name": "ipython",
    "version": 3
   },
   "file_extension": ".py",
   "mimetype": "text/x-python",
   "name": "python",
   "nbconvert_exporter": "python",
   "pygments_lexer": "ipython3",
   "version": "3.10.14"
  }
 },
 "nbformat": 4,
 "nbformat_minor": 5
}
