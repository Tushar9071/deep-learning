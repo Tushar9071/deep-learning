{
 "cells": [
  {
   "cell_type": "code",
   "execution_count": 4,
   "id": "4e3306c6",
   "metadata": {},
   "outputs": [],
   "source": [
    "import tensorflow as tf"
   ]
  },
  {
   "cell_type": "code",
   "execution_count": 5,
   "id": "ffe22245",
   "metadata": {},
   "outputs": [
    {
     "name": "stdout",
     "output_type": "stream",
     "text": [
      "tf.Tensor(4, shape=(), dtype=int32)\n"
     ]
    }
   ],
   "source": [
    "tensor_zero_d = tf.constant(4)\n",
    "print(tensor_zero_d)"
   ]
  },
  {
   "cell_type": "code",
   "execution_count": 6,
   "id": "a1900920",
   "metadata": {},
   "outputs": [
    {
     "name": "stdout",
     "output_type": "stream",
     "text": [
      "tf.Tensor([ 2  0 -3  8 90], shape=(5,), dtype=int32)\n"
     ]
    }
   ],
   "source": [
    "tensor_one_d = tf.constant([2,0,-3,8,90])\n",
    "print(tensor_one_d)"
   ]
  },
  {
   "cell_type": "code",
   "execution_count": 7,
   "id": "ff31ecf9",
   "metadata": {},
   "outputs": [
    {
     "name": "stdout",
     "output_type": "stream",
     "text": [
      "tf.Tensor(\n",
      "[[ 1  2  0]\n",
      " [ 3  5 -1]\n",
      " [ 1  5  6]\n",
      " [ 2  3  8]], shape=(4, 3), dtype=int32)\n"
     ]
    }
   ],
   "source": [
    "tensor_two_d = tf.constant([[1,2,0],[3,5,-1],[1,5,6],[2,3,8]])\n",
    "print(tensor_two_d)"
   ]
  },
  {
   "cell_type": "code",
   "execution_count": 8,
   "id": "f92aa97b",
   "metadata": {},
   "outputs": [
    {
     "name": "stdout",
     "output_type": "stream",
     "text": [
      "tf.Tensor(\n",
      "[[[1 2]\n",
      "  [3 4]]\n",
      "\n",
      " [[5 6]\n",
      "  [7 8]]], shape=(2, 2, 2), dtype=int32)\n"
     ]
    }
   ],
   "source": [
    "tensor_three_d = tf.constant([[[1, 2], [3, 4]], [[5, 6], [7, 8]]])\n",
    "print(tensor_three_d)"
   ]
  },
  {
   "cell_type": "code",
   "execution_count": 6,
   "id": "5a87d02c",
   "metadata": {},
   "outputs": [
    {
     "name": "stdout",
     "output_type": "stream",
     "text": [
      "tf.Tensor(\n",
      "[[[[1 2]\n",
      "   [3 4]]\n",
      "\n",
      "  [[5 6]\n",
      "   [7 8]]]\n",
      "\n",
      "\n",
      " [[[1 2]\n",
      "   [3 4]]\n",
      "\n",
      "  [[5 6]\n",
      "   [7 8]]]], shape=(2, 2, 2, 2), dtype=int32)\n"
     ]
    }
   ],
   "source": [
    "tensor_four_d = tf.constant([[[[1, 2], [3, 4]], [[5, 6], [7, 8]]],[[[1, 2], [3, 4]], [[5, 6], [7, 8]]]])\n",
    "print(tensor_four_d)"
   ]
  },
  {
   "cell_type": "code",
   "execution_count": 7,
   "id": "eba618f7",
   "metadata": {},
   "outputs": [
    {
     "name": "stdout",
     "output_type": "stream",
     "text": [
      "()\n",
      "(5,)\n",
      "(4, 3)\n",
      "(2, 2, 2)\n",
      "(2, 2, 2, 2)\n"
     ]
    }
   ],
   "source": [
    "#shape method of tensor return dimantion of tensor\n",
    "#tensor is multidimation array\n",
    "print(tensor_zero_d.shape)\n",
    "print(tensor_one_d.shape)\n",
    "print(tensor_two_d.shape)\n",
    "print(tensor_three_d.shape)\n",
    "print(tensor_four_d.shape)\n"
   ]
  },
  {
   "cell_type": "code",
   "execution_count": 8,
   "id": "64bf0401",
   "metadata": {},
   "outputs": [
    {
     "name": "stdout",
     "output_type": "stream",
     "text": [
      "tf.Tensor([ 2.  0. -3.  8. 90.], shape=(5,), dtype=float32)\n",
      "tf.Tensor([ 2  0 -3  8 90], shape=(5,), dtype=int16)\n"
     ]
    }
   ],
   "source": [
    "#type casting\n",
    "tensor_one_d = tf.constant([2,0,-3,8,90.])\n",
    "print(tensor_one_d)\n",
    "casted_one_d = tf.cast(tensor_one_d,dtype=tf.int16)\n",
    "print(casted_one_d)\n"
   ]
  },
  {
   "cell_type": "code",
   "execution_count": 9,
   "id": "e980cd8e",
   "metadata": {},
   "outputs": [
    {
     "name": "stdout",
     "output_type": "stream",
     "text": [
      "tf.Tensor([ True  True False  True], shape=(4,), dtype=bool)\n",
      "tf.Tensor([ True  True False  True], shape=(4,), dtype=bool)\n"
     ]
    }
   ],
   "source": [
    "#boolen\n",
    "tensor_bool = tf.constant([True,True,False,True])\n",
    "print(tensor_bool)\n",
    "tensor_bool_num = tf.constant([1,1,0,1])\n",
    "casted_tensor_bool = tf.cast(tensor_bool_num,dtype=tf.bool)\n",
    "print(casted_tensor_bool)\n"
   ]
  },
  {
   "cell_type": "code",
   "execution_count": 10,
   "id": "8cd41991",
   "metadata": {},
   "outputs": [
    {
     "name": "stdout",
     "output_type": "stream",
     "text": [
      "tf.Tensor(b'hello world', shape=(), dtype=string)\n",
      "tf.Tensor([b'hello' b'world'], shape=(2,), dtype=string)\n"
     ]
    }
   ],
   "source": [
    "#string\n",
    "tensor_string = tf.constant(\"hello world\")\n",
    "print(tensor_string)\n",
    "tensor_one_d_string = tf.constant([\"hello\",\"world\"])\n",
    "print(tensor_one_d_string)"
   ]
  },
  {
   "cell_type": "code",
   "execution_count": 11,
   "id": "b3eabf89",
   "metadata": {},
   "outputs": [
    {
     "name": "stdout",
     "output_type": "stream",
     "text": [
      "tf.Tensor([1 2 3], shape=(3,), dtype=int64)\n"
     ]
    }
   ],
   "source": [
    "#convert np array into tensor\n",
    "import numpy as np\n",
    "np_array = np.array([1,2,3])\n",
    "\n",
    "converted_np_array = tf.convert_to_tensor(np_array)\n",
    "print(converted_np_array)"
   ]
  },
  {
   "cell_type": "code",
   "execution_count": 12,
   "id": "46aad340",
   "metadata": {},
   "outputs": [
    {
     "name": "stdout",
     "output_type": "stream",
     "text": [
      "tf.Tensor(\n",
      "[[[[1 0 0]\n",
      "   [0 1 0]\n",
      "   [0 0 1]]\n",
      "\n",
      "  [[1 0 0]\n",
      "   [0 1 0]\n",
      "   [0 0 1]]]\n",
      "\n",
      "\n",
      " [[[1 0 0]\n",
      "   [0 1 0]\n",
      "   [0 0 1]]\n",
      "\n",
      "  [[1 0 0]\n",
      "   [0 1 0]\n",
      "   [0 0 1]]]], shape=(2, 2, 3, 3), dtype=int8)\n",
      "\n",
      "tf.Tensor(\n",
      "[[[[5 0 0]\n",
      "   [0 5 0]\n",
      "   [0 0 5]]\n",
      "\n",
      "  [[5 0 0]\n",
      "   [0 5 0]\n",
      "   [0 0 5]]]\n",
      "\n",
      "\n",
      " [[[5 0 0]\n",
      "   [0 5 0]\n",
      "   [0 0 5]]\n",
      "\n",
      "  [[5 0 0]\n",
      "   [0 5 0]\n",
      "   [0 0 5]]]], shape=(2, 2, 3, 3), dtype=int8)\n"
     ]
    }
   ],
   "source": [
    "# make identity matrix\n",
    "eye_matrix = tf.eye(num_rows=3,dtype=tf.int8 , num_columns=None,batch_shape=[2,2,])\n",
    "print(eye_matrix)\n",
    "print()\n",
    "print(5*eye_matrix)"
   ]
  },
  {
   "cell_type": "code",
   "execution_count": 13,
   "id": "166b3776",
   "metadata": {},
   "outputs": [
    {
     "name": "stdout",
     "output_type": "stream",
     "text": [
      "tf.Tensor(\n",
      "[[5 5 5 5]\n",
      " [5 5 5 5]\n",
      " [5 5 5 5]], shape=(3, 4), dtype=int32)\n"
     ]
    }
   ],
   "source": [
    "#make array where every element is same \n",
    "\n",
    "fill_tensor = tf.fill([3,4],5,None)\n",
    "print(fill_tensor)"
   ]
  },
  {
   "cell_type": "code",
   "execution_count": 14,
   "id": "d899a741",
   "metadata": {},
   "outputs": [
    {
     "name": "stdout",
     "output_type": "stream",
     "text": [
      "tf.Tensor(\n",
      "[[1. 1. 1. 1.]\n",
      " [1. 1. 1. 1.]\n",
      " [1. 1. 1. 1.]], shape=(3, 4), dtype=float32)\n"
     ]
    }
   ],
   "source": [
    "#also same all element is 1 \n",
    "ones_tensor = tf.ones([3,4])\n",
    "print(ones_tensor)"
   ]
  },
  {
   "cell_type": "code",
   "execution_count": 15,
   "id": "2f130d90",
   "metadata": {},
   "outputs": [
    {
     "name": "stdout",
     "output_type": "stream",
     "text": [
      "tf.Tensor(\n",
      "[[1 1 1]\n",
      " [1 1 1]\n",
      " [1 1 1]\n",
      " [1 1 1]], shape=(4, 3), dtype=int32)\n"
     ]
    }
   ],
   "source": [
    "all_ones = tf.ones_like(tensor_two_d)\n",
    "print(all_ones)"
   ]
  },
  {
   "cell_type": "code",
   "execution_count": 18,
   "id": "34e15b0e",
   "metadata": {},
   "outputs": [
    {
     "name": "stdout",
     "output_type": "stream",
     "text": [
      "tf.Tensor(\n",
      "[[0 0 0 0]\n",
      " [0 0 0 0]\n",
      " [0 0 0 0]], shape=(3, 4), dtype=int16)\n"
     ]
    }
   ],
   "source": [
    "#zero tensor\n",
    "zero_tensor = tf.zeros([3,4], dtype=tf.int16)\n",
    "print(zero_tensor)"
   ]
  },
  {
   "cell_type": "code",
   "execution_count": null,
   "id": "918d0351",
   "metadata": {},
   "outputs": [],
   "source": []
  }
 ],
 "metadata": {
  "kernelspec": {
   "display_name": "tf-env",
   "language": "python",
   "name": "python3"
  },
  "language_info": {
   "codemirror_mode": {
    "name": "ipython",
    "version": 3
   },
   "file_extension": ".py",
   "mimetype": "text/x-python",
   "name": "python",
   "nbconvert_exporter": "python",
   "pygments_lexer": "ipython3",
   "version": "3.10.18"
  }
 },
 "nbformat": 4,
 "nbformat_minor": 5
}
