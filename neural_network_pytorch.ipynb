{
 "cells": [
  {
   "cell_type": "code",
   "execution_count": 2,
   "id": "6b79a304",
   "metadata": {},
   "outputs": [
    {
     "name": "stdout",
     "output_type": "stream",
     "text": [
      "2.5.1\n"
     ]
    }
   ],
   "source": [
    "import torch\n",
    "from torch import nn\n",
    "import matplotlib.pyplot as plt\n",
    "\n",
    "#Check PyTorch version\n",
    "print(torch.__version__)"
   ]
  },
  {
   "cell_type": "markdown",
   "id": "019f9a43",
   "metadata": {},
   "source": [
    "## Data (Preparing and loading)\n",
    "Data can be anything... in machine learning\n",
    "* Excel \n",
    "* Images\n",
    "* Text\n",
    "* Audio\n",
    "* Videos\n",
    "* DNA\n",
    "\n",
    "Machine learning is a game of two parts:\n",
    "1. Get data into a numerical representation.\n",
    "2. Build a model to learn patterns in that numerical representations.\n"
   ]
  },
  {
   "cell_type": "code",
   "execution_count": 3,
   "id": "5fe485cb",
   "metadata": {},
   "outputs": [],
   "source": [
    "# Create Known parameters using linear regression\n",
    "weight = 0.7\n",
    "bias = 0.3\n",
    "\n",
    "# Create \n",
    "\n",
    "start = 0.0\n",
    "end = 1.0\n",
    "step = 0.02\n",
    "\n",
    "X = torch.arange(start, end, step).unsqueeze(dim=1)\n",
    "y = weight * X + bias\n"
   ]
  },
  {
   "cell_type": "code",
   "execution_count": 4,
   "id": "af75a06e",
   "metadata": {},
   "outputs": [
    {
     "data": {
      "text/plain": [
       "(50,\n",
       " 50,\n",
       " tensor([[0.0000],\n",
       "         [0.0200],\n",
       "         [0.0400],\n",
       "         [0.0600],\n",
       "         [0.0800]]),\n",
       " tensor([[0.3000],\n",
       "         [0.3140],\n",
       "         [0.3280],\n",
       "         [0.3420],\n",
       "         [0.3560]]))"
      ]
     },
     "execution_count": 4,
     "metadata": {},
     "output_type": "execute_result"
    }
   ],
   "source": [
    "len(X), len(y) , X[:5] , y[:5]"
   ]
  },
  {
   "cell_type": "code",
   "execution_count": 5,
   "id": "53dea990",
   "metadata": {},
   "outputs": [
    {
     "data": {
      "text/plain": [
       "(40, 40, 10, 10)"
      ]
     },
     "execution_count": 5,
     "metadata": {},
     "output_type": "execute_result"
    }
   ],
   "source": [
    " ## splitting the dataset\n",
    "train_size = int(0.8 * len(X)) \n",
    "X_train, X_test = X[:train_size], X[train_size:]\n",
    "y_train, y_test = y[:train_size], y[train_size:]\n",
    "len(X_train), len(y_train), len(X_test), len(y_test)"
   ]
  },
  {
   "cell_type": "code",
   "execution_count": 6,
   "id": "cb0369b9",
   "metadata": {},
   "outputs": [],
   "source": [
    "# also we can use sklearn for random splitting\n",
    "from sklearn.model_selection import train_test_split\n",
    "\n",
    "X_train, X_test, y_train, y_test = train_test_split(X, y, test_size=0.2, random_state=42)\n"
   ]
  },
  {
   "cell_type": "code",
   "execution_count": 8,
   "id": "79d199f1",
   "metadata": {},
   "outputs": [],
   "source": [
    "# visualizing the data\n",
    "def plot_predication(train_data = X_train,\n",
    "                     train_labels = y_train,\n",
    "                     test_data=X_test,\n",
    "                     test_labels=y_test,\n",
    "                     predication=None):\n",
    "    \"\"\"Plot training data, test data and compares predictions\"\"\"\n",
    "    plt.figure(figsize=(10,7))\n",
    "    \n",
    "    # plot training data in blue\n",
    "    plt.scatter(train_data,train_labels,c=\"b\" ,s=4,label =\"Training data\")\n",
    "    \n",
    "    # plot test data\n",
    "    plt.scatter(test_data,test_labels,c=\"g\",s=4,label=\"Testing data\")\n",
    "\n",
    "    #Are there predictions to plot?\n",
    "    if predication is not None:\n",
    "        plt.scatter(test_data,predication,c=\"r\",s=4,label=\"Predictions\")\n",
    "        \n",
    "    plt.legend(prop={\"size\":14})"
   ]
  },
  {
   "cell_type": "code",
   "execution_count": 12,
   "id": "25cb6f71",
   "metadata": {},
   "outputs": [
    {
     "data": {
      "image/png": "[encoded data removed]",
      "text/plain": [
       "<Figure size 1000x700 with 1 Axes>"
      ]
     },
     "metadata": {},
     "output_type": "display_data"
    }
   ],
   "source": [
    "plot_predication()"
   ]
  },
  {
   "cell_type": "code",
   "execution_count": 74,
   "id": "6f85899e",
   "metadata": {},
   "outputs": [],
   "source": [
    "# Create linear regression model\n",
    "class LinearRegressionModel(nn.Module):\n",
    "    # torch.manual_seed(42)\n",
    "    def __init__(self):\n",
    "        super().__init__()\n",
    "        self.weights = nn.Parameter(torch.randn(1,requires_grad=True,dtype=torch.float))\n",
    "        self.bias = nn.Parameter(torch.randn(1,requires_grad=True,dtype=torch.float))\n",
    "\n",
    "    def forward(self,x:torch.Tensor)->torch.Tensor:\n",
    "        return x * self.weights + self.bias"
   ]
  },
  {
   "cell_type": "code",
   "execution_count": 75,
   "id": "8f8d70fd",
   "metadata": {},
   "outputs": [
    {
     "data": {
      "text/plain": [
       "[Parameter containing:\n",
       " tensor([0.3367], requires_grad=True),\n",
       " Parameter containing:\n",
       " tensor([0.1288], requires_grad=True)]"
      ]
     },
     "execution_count": 75,
     "metadata": {},
     "output_type": "execute_result"
    }
   ],
   "source": [
    "# Cheate a random seed\n",
    "\n",
    "torch.manual_seed(42)\n",
    "\n",
    "#Create an instance of the model\n",
    "model = LinearRegressionModel()\n",
    "\n",
    "#check out the model's parameters\n",
    "list(model.parameters())"
   ]
  },
  {
   "cell_type": "code",
   "execution_count": 76,
   "id": "60611b47",
   "metadata": {},
   "outputs": [
    {
     "data": {
      "text/plain": [
       "OrderedDict([('weights', tensor([0.3367])), ('bias', tensor([0.1288]))])"
      ]
     },
     "execution_count": 76,
     "metadata": {},
     "output_type": "execute_result"
    }
   ],
   "source": [
    "# List named parameters\n",
    "model.state_dict()"
   ]
  },
  {
   "cell_type": "code",
   "execution_count": 77,
   "id": "47bcfc51",
   "metadata": {},
   "outputs": [
    {
     "data": {
      "text/plain": [
       "(0.7, 0.3)"
      ]
     },
     "execution_count": 77,
     "metadata": {},
     "output_type": "execute_result"
    }
   ],
   "source": [
    "weight , bias"
   ]
  },
  {
   "cell_type": "code",
   "execution_count": 87,
   "id": "27cc2cb8",
   "metadata": {},
   "outputs": [
    {
     "data": {
      "text/plain": [
       "tensor([[0.4811],\n",
       "        [0.8447],\n",
       "        [0.7189],\n",
       "        [0.9287],\n",
       "        [0.5371],\n",
       "        [0.9706],\n",
       "        [0.6629],\n",
       "        [0.6489],\n",
       "        [0.7468],\n",
       "        [0.5650]])"
      ]
     },
     "execution_count": 87,
     "metadata": {},
     "output_type": "execute_result"
    }
   ],
   "source": [
    "# make same predictions\n",
    "with torch.inference_mode():\n",
    "    y_pred = model(X_test)\n",
    "y_pred"
   ]
  },
  {
   "cell_type": "code",
   "execution_count": 88,
   "id": "08c92e1c",
   "metadata": {},
   "outputs": [
    {
     "data": {
      "image/png": "[encoded data removed]",
      "text/plain": [
       "<Figure size 1000x700 with 1 Axes>"
      ]
     },
     "metadata": {},
     "output_type": "display_data"
    }
   ],
   "source": [
    "plot_predication(predication=y_pred)"
   ]
  },
  {
   "cell_type": "code",
   "execution_count": null,
   "id": "6fa76f27",
   "metadata": {},
   "outputs": [],
   "source": [
    "## train model\n",
    "# setup loss function\n",
    "loss_fn = nn.L1Loss()\n",
    "\n",
    "# set up optimizer\n",
    "optimizer = torch.optim.SGD(params=model.parameters(),lr=0.001)"
   ]
  },
  {
   "cell_type": "code",
   "execution_count": 91,
   "id": "94967d54",
   "metadata": {},
   "outputs": [],
   "source": [
    "# Building a training loop\n",
    "epochs = 1000\n",
    "for epoch in range(epochs):\n",
    "    model.train()\n",
    "    y_pred = model(X_train)\n",
    "    loss = loss_fn(y_pred,y_train)\n",
    "    optimizer.zero_grad()\n",
    "    loss.backward()\n",
    "    optimizer.step()\n",
    "    # print(list(model.parameters()))\n",
    "    # model.eval()"
   ]
  },
  {
   "cell_type": "code",
   "execution_count": 92,
   "id": "ea86afbe",
   "metadata": {},
   "outputs": [
    {
     "data": {
      "text/plain": [
       "[Parameter containing:\n",
       " tensor([0.6993], requires_grad=True),\n",
       " Parameter containing:\n",
       " tensor([0.2993], requires_grad=True)]"
      ]
     },
     "execution_count": 92,
     "metadata": {},
     "output_type": "execute_result"
    }
   ],
   "source": [
    "list(model.parameters())"
   ]
  },
  {
   "cell_type": "code",
   "execution_count": null,
   "id": "2fcbcc5f",
   "metadata": {},
   "outputs": [],
   "source": []
  }
 ],
 "metadata": {
  "kernelspec": {
   "display_name": "al-ml",
   "language": "python",
   "name": "python3"
  },
  "language_info": {
   "codemirror_mode": {
    "name": "ipython",
    "version": 3
   },
   "file_extension": ".py",
   "mimetype": "text/x-python",
   "name": "python",
   "nbconvert_exporter": "python",
   "pygments_lexer": "ipython3",
   "version": "3.10.14"
  }
 },
 "nbformat": 4,
 "nbformat_minor": 5
}
